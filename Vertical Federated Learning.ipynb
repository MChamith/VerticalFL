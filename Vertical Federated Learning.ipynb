{
 "cells": [
  {
   "cell_type": "code",
   "execution_count": 15,
   "id": "5c2dfecb",
   "metadata": {},
   "outputs": [],
   "source": [
    "import torch\n",
    "import torch.nn as nn\n",
    "import torch.nn.functional as F\n",
    "import torch.optim as optim\n",
    "from torchvision import datasets, transforms\n",
    "from torch.utils.data import DataLoader, Dataset\n",
    "import copy\n",
    "import numpy as np\n",
    "import matplotlib.pyplot as plt\n",
    "from tqdm import tqdm\n",
    "import pickle\n",
    "from PIL import Image\n",
    "from sklearn.utils import shuffle\n"
   ]
  },
  {
   "cell_type": "code",
   "execution_count": 16,
   "id": "cd7b187c",
   "metadata": {},
   "outputs": [],
   "source": [
    "n_e = 2\n",
    "batch_size = 32\n",
    "T = 20\n",
    "learning_rate = 0.001"
   ]
  },
  {
   "cell_type": "code",
   "execution_count": 17,
   "id": "f8649530",
   "metadata": {},
   "outputs": [],
   "source": [
    "def load_dataset():\n",
    "    transforms_mnist = transforms.Compose([transforms.ToTensor(), transforms.Normalize((0.1307,),(0.3081,))])\n",
    "    mnist_data_train = datasets.MNIST('./data/mnist', train=True, download=True, transform=transforms_mnist)\n",
    "    mnist_data_test = datasets.MNIST('./data/mnist', train=False, download=True, transform=transforms_mnist)\n",
    "\n",
    "    return mnist_data_train, mnist_data_test"
   ]
  },
  {
   "cell_type": "code",
   "execution_count": 18,
   "id": "a56b6c55",
   "metadata": {},
   "outputs": [],
   "source": [
    "mnist_data_train, mnist_data_test = load_dataset()"
   ]
  },
  {
   "cell_type": "code",
   "execution_count": 19,
   "id": "07411b69",
   "metadata": {},
   "outputs": [],
   "source": [
    "train_set_array = mnist_data_train.data.numpy()\n",
    "train_labels = mnist_data_train.targets.numpy()\n",
    "test_set_array = mnist_data_test.data.numpy()"
   ]
  },
  {
   "cell_type": "code",
   "execution_count": 28,
   "id": "20ff2c7d",
   "metadata": {},
   "outputs": [],
   "source": [
    "\n",
    "def shuffle_data(train_set_array, train_labels):\n",
    "    \n",
    "    local_data = np.zeros((2, train_set_array.shape[0], 28, 14))\n",
    "    train_set_array, train_labels = shuffle(train_set_array, train_labels, random_state=0)\n",
    "    \n",
    "    for idx in range(train_set_array.shape[0]):\n",
    "        img = train_set_array[idx]\n",
    "        \n",
    "        local_data[0,idx,:,:] = img[:, 0:14]\n",
    "        local_data[1,idx,:,:] = img[:, 14:]\n",
    "    \n",
    "    return local_data, train_labels\n",
    "    "
   ]
  },
  {
   "cell_type": "code",
   "execution_count": 21,
   "id": "f2c40d13",
   "metadata": {},
   "outputs": [],
   "source": [
    "class Local_Net(nn.Module):\n",
    "    def __init__(self):\n",
    "        super(Local_Net, self).__init__()\n",
    "        self.fc1 = nn.Linear(28*10, 200)\n",
    "#         self.fc2 = nn.Linear(200, 200)\n",
    "        \n",
    "\n",
    "    def forward(self, x):\n",
    "        x = torch.flatten(x, 1)\n",
    "        x = F.relu(self.fc1(x))\n",
    "#         x = F.relu(self.fc2(x))\n",
    "        \n",
    "        return x"
   ]
  },
  {
   "cell_type": "code",
   "execution_count": 22,
   "id": "75b88a06",
   "metadata": {},
   "outputs": [],
   "source": [
    "class Global_Net(nn.Module):\n",
    "    def __init__(self):\n",
    "        super(Global_Net, self).__init__()\n",
    "       \n",
    "        self.fc1 = nn.Linear(32*320, 128)\n",
    "        self.fc2 = nn.Linear(128, 10)\n",
    "\n",
    "    def forward(self, x):\n",
    "        x = torch.flatten(x, 1)\n",
    "        x = F.relu(self.fc1(x))\n",
    "        output = self.fc2(x)\n",
    "        return output"
   ]
  },
  {
   "cell_type": "code",
   "execution_count": 23,
   "id": "95a3aefd",
   "metadata": {},
   "outputs": [],
   "source": [
    "class Local_CNN_Net(nn.Module):\n",
    "    def __init__(self):\n",
    "        super(Local_CNN_Net, self).__init__()\n",
    "        self.conv1 = nn.Conv2d(1, 32, kernel_size=3)\n",
    "        self.conv2 = nn.Conv2d(32, 64, kernel_size=3)\n",
    "        self.pool = nn.MaxPool2d(2,2)\n",
    "        self.dropout = nn.Dropout(p=0.2)\n",
    "#         self.fc1 = nn.Linear(1024, 512)\n",
    "#         self.fc2 = nn.Linear(512, 10)\n",
    "\n",
    "    def forward(self, x):\n",
    "        x = self.pool(F.relu(self.conv1(x)))\n",
    "        x = self.pool(F.relu(self.conv2(x)))\n",
    "#         x = self.dropout(x)\n",
    "        x = torch.flatten(x, 1)\n",
    "#         print('x shape ' + str(x.shape))\n",
    "#         x = F.relu(self.fc1(x))\n",
    "        return x"
   ]
  },
  {
   "cell_type": "code",
   "execution_count": 30,
   "id": "a03c2f19",
   "metadata": {},
   "outputs": [],
   "source": [
    "class Global_CNN_Net(nn.Module):\n",
    "    def __init__(self):\n",
    "        super(Global_CNN_Net, self).__init__()\n",
    "        \n",
    "        self.fc1 = nn.Linear(1280, 256)\n",
    "        self.fc2 = nn.Linear(256, 10)\n",
    "\n",
    "    def forward(self, x):\n",
    "        \n",
    "        x = torch.flatten(x, 1)\n",
    "#         print('shape after flatten ' + str(x.shape))\n",
    "        x = F.relu(self.fc1(x))\n",
    "        output = self.fc2(x)\n",
    "        return x"
   ]
  },
  {
   "cell_type": "code",
   "execution_count": 25,
   "id": "6d4d7f49",
   "metadata": {},
   "outputs": [],
   "source": [
    "class ClientUpdate(object):\n",
    "    def __init__(self,learning_rate):\n",
    "        self.learning_rate = learning_rate\n",
    "       \n",
    "    def calculate_output(self, model, data):\n",
    "        \n",
    "        output = model(data)\n",
    "        \n",
    "        return output\n",
    "    \n",
    "    def get_loss(self, y, target):\n",
    "        loss_object = nn.CrossEntropyLoss()\n",
    "        loss = loss_object(y_, target)\n",
    "        \n",
    "        return loss"
   ]
  },
  {
   "cell_type": "code",
   "execution_count": 31,
   "id": "59fff866",
   "metadata": {},
   "outputs": [],
   "source": [
    "model_list = []\n",
    "optimizer_list = []\n",
    "for i in range(n_e):\n",
    "    local_net = Local_CNN_Net()\n",
    "    model_list.append(local_net)    "
   ]
  },
  {
   "cell_type": "code",
   "execution_count": 32,
   "id": "9edb35aa",
   "metadata": {},
   "outputs": [
    {
     "name": "stderr",
     "output_type": "stream",
     "text": [
      "  5%|████▏                                                                              | 1/20 [00:48<15:20, 48.45s/it]"
     ]
    },
    {
     "name": "stdout",
     "output_type": "stream",
     "text": [
      "accuracy at round 1 0.0625\n"
     ]
    },
    {
     "name": "stderr",
     "output_type": "stream",
     "text": [
      "\r",
      " 10%|████████▎                                                                          | 2/20 [01:34<14:07, 47.06s/it]"
     ]
    },
    {
     "name": "stdout",
     "output_type": "stream",
     "text": [
      "accuracy at round 2 0.125\n"
     ]
    },
    {
     "name": "stderr",
     "output_type": "stream",
     "text": [
      "\r",
      " 15%|████████████▍                                                                      | 3/20 [02:20<13:14, 46.74s/it]"
     ]
    },
    {
     "name": "stdout",
     "output_type": "stream",
     "text": [
      "accuracy at round 3 0.15625\n"
     ]
    },
    {
     "name": "stderr",
     "output_type": "stream",
     "text": [
      "\r",
      " 20%|████████████████▌                                                                  | 4/20 [03:08<12:30, 46.91s/it]"
     ]
    },
    {
     "name": "stdout",
     "output_type": "stream",
     "text": [
      "accuracy at round 4 0.03125\n"
     ]
    },
    {
     "name": "stderr",
     "output_type": "stream",
     "text": [
      "\r",
      " 25%|████████████████████▊                                                              | 5/20 [03:53<11:36, 46.40s/it]"
     ]
    },
    {
     "name": "stdout",
     "output_type": "stream",
     "text": [
      "accuracy at round 5 0.125\n"
     ]
    },
    {
     "name": "stderr",
     "output_type": "stream",
     "text": [
      "\r",
      " 30%|████████████████████████▉                                                          | 6/20 [04:40<10:51, 46.56s/it]"
     ]
    },
    {
     "name": "stdout",
     "output_type": "stream",
     "text": [
      "accuracy at round 6 0.125\n"
     ]
    },
    {
     "name": "stderr",
     "output_type": "stream",
     "text": [
      "\r",
      " 35%|█████████████████████████████                                                      | 7/20 [05:29<10:15, 47.38s/it]"
     ]
    },
    {
     "name": "stdout",
     "output_type": "stream",
     "text": [
      "accuracy at round 7 0.0625\n"
     ]
    },
    {
     "name": "stderr",
     "output_type": "stream",
     "text": [
      "\r",
      " 40%|█████████████████████████████████▏                                                 | 8/20 [06:19<09:40, 48.34s/it]"
     ]
    },
    {
     "name": "stdout",
     "output_type": "stream",
     "text": [
      "accuracy at round 8 0.0625\n"
     ]
    },
    {
     "name": "stderr",
     "output_type": "stream",
     "text": [
      "\r",
      " 45%|█████████████████████████████████████▎                                             | 9/20 [07:10<08:59, 49.08s/it]"
     ]
    },
    {
     "name": "stdout",
     "output_type": "stream",
     "text": [
      "accuracy at round 9 0.15625\n"
     ]
    },
    {
     "name": "stderr",
     "output_type": "stream",
     "text": [
      "\r",
      " 50%|█████████████████████████████████████████                                         | 10/20 [07:56<08:01, 48.17s/it]"
     ]
    },
    {
     "name": "stdout",
     "output_type": "stream",
     "text": [
      "accuracy at round 10 0.125\n"
     ]
    },
    {
     "name": "stderr",
     "output_type": "stream",
     "text": [
      "\r",
      " 55%|█████████████████████████████████████████████                                     | 11/20 [08:44<07:12, 48.06s/it]"
     ]
    },
    {
     "name": "stdout",
     "output_type": "stream",
     "text": [
      "accuracy at round 11 0.0625\n"
     ]
    },
    {
     "name": "stderr",
     "output_type": "stream",
     "text": [
      "\r",
      " 60%|█████████████████████████████████████████████████▏                                | 12/20 [09:33<06:25, 48.21s/it]"
     ]
    },
    {
     "name": "stdout",
     "output_type": "stream",
     "text": [
      "accuracy at round 12 0.15625\n"
     ]
    },
    {
     "name": "stderr",
     "output_type": "stream",
     "text": [
      "\r",
      " 65%|█████████████████████████████████████████████████████▎                            | 13/20 [10:23<05:43, 49.02s/it]"
     ]
    },
    {
     "name": "stdout",
     "output_type": "stream",
     "text": [
      "accuracy at round 13 0.125\n"
     ]
    },
    {
     "name": "stderr",
     "output_type": "stream",
     "text": [
      "\r",
      " 70%|█████████████████████████████████████████████████████████▍                        | 14/20 [11:17<05:01, 50.27s/it]"
     ]
    },
    {
     "name": "stdout",
     "output_type": "stream",
     "text": [
      "accuracy at round 14 0.15625\n"
     ]
    },
    {
     "name": "stderr",
     "output_type": "stream",
     "text": [
      "\r",
      " 75%|█████████████████████████████████████████████████████████████▌                    | 15/20 [12:05<04:07, 49.54s/it]"
     ]
    },
    {
     "name": "stdout",
     "output_type": "stream",
     "text": [
      "accuracy at round 15 0.125\n"
     ]
    },
    {
     "name": "stderr",
     "output_type": "stream",
     "text": [
      "\r",
      " 80%|█████████████████████████████████████████████████████████████████▌                | 16/20 [12:50<03:12, 48.25s/it]"
     ]
    },
    {
     "name": "stdout",
     "output_type": "stream",
     "text": [
      "accuracy at round 16 0.0625\n"
     ]
    },
    {
     "name": "stderr",
     "output_type": "stream",
     "text": [
      "\r",
      " 85%|█████████████████████████████████████████████████████████████████████▋            | 17/20 [13:35<02:21, 47.25s/it]"
     ]
    },
    {
     "name": "stdout",
     "output_type": "stream",
     "text": [
      "accuracy at round 17 0.0\n"
     ]
    },
    {
     "name": "stderr",
     "output_type": "stream",
     "text": [
      "\r",
      " 90%|█████████████████████████████████████████████████████████████████████████▊        | 18/20 [14:21<01:33, 46.85s/it]"
     ]
    },
    {
     "name": "stdout",
     "output_type": "stream",
     "text": [
      "accuracy at round 18 0.125\n"
     ]
    },
    {
     "name": "stderr",
     "output_type": "stream",
     "text": [
      "\r",
      " 95%|█████████████████████████████████████████████████████████████████████████████▉    | 19/20 [15:06<00:46, 46.50s/it]"
     ]
    },
    {
     "name": "stdout",
     "output_type": "stream",
     "text": [
      "accuracy at round 19 0.125\n"
     ]
    },
    {
     "name": "stderr",
     "output_type": "stream",
     "text": [
      "100%|██████████████████████████████████████████████████████████████████████████████████| 20/20 [15:51<00:00, 47.56s/it]"
     ]
    },
    {
     "name": "stdout",
     "output_type": "stream",
     "text": [
      "accuracy at round 20 0.0625\n"
     ]
    },
    {
     "name": "stderr",
     "output_type": "stream",
     "text": [
      "\n"
     ]
    }
   ],
   "source": [
    "num_examples = train_set_array.shape[0]\n",
    "global_model = Global_CNN_Net()\n",
    "\n",
    "for curr_round in tqdm(range(1, T+1)):\n",
    "    \n",
    "    local_data, train_labels = shuffle_data(train_set_array,train_labels )\n",
    "    for offset in range(0,num_examples, batch_size):\n",
    "        global_input = None\n",
    "        end = offset + batch_size\n",
    "        if end > num_examples:\n",
    "            end = num_examples\n",
    "            \n",
    "        for i in range(n_e):\n",
    "            \n",
    "            input_ = torch.from_numpy(local_data[i,offset:end, :,:]).to(torch.float32)\n",
    "            input_ = input_.unsqueeze(1)\n",
    "            input_.requires_grad = True\n",
    "#             print('input shape ' + str(input_.shape))\n",
    "            out_ = model_list[i](input_)\n",
    "            \n",
    "            if global_input is None:\n",
    "                global_input = out_\n",
    "            else:\n",
    "                global_input = torch.cat((global_input, out_), 1)\n",
    "\n",
    "#             print(global_input.shape)\n",
    "        y_pred = global_model(global_input)\n",
    "        y_target = torch.from_numpy(train_labels[offset:end]).type(torch.LongTensor) \n",
    "        \n",
    "        loss_object = nn.CrossEntropyLoss()\n",
    "        loss = loss_object(y_pred, torch.squeeze(y_target))\n",
    "        \n",
    "        g_optimizer = torch.optim.Adam(global_model.parameters(), lr=learning_rate)\n",
    "        \n",
    "        loss.backward()\n",
    "        \n",
    "        g_optimizer.step()\n",
    "        \n",
    "        for i in range(n_e):\n",
    "            \n",
    "            l_optimizer = torch.optim.Adam(model_list[i].parameters(), lr=learning_rate)\n",
    "            l_optimizer.step()\n",
    "        \n",
    "        if end == num_examples:\n",
    "            \n",
    "            predictions = y_pred.argmax(dim=1)  \n",
    "            accuracy = predictions.eq(y_target.data.view_as(predictions)).sum().item()/ len(y_target)\n",
    "            print('accuracy at round ' + str(curr_round) +' ' + str(accuracy))\n",
    "        \n",
    "        "
   ]
  },
  {
   "cell_type": "code",
   "execution_count": null,
   "id": "e50989ac",
   "metadata": {},
   "outputs": [],
   "source": []
  }
 ],
 "metadata": {
  "kernelspec": {
   "display_name": "Python 3 (ipykernel)",
   "language": "python",
   "name": "python3"
  },
  "language_info": {
   "codemirror_mode": {
    "name": "ipython",
    "version": 3
   },
   "file_extension": ".py",
   "mimetype": "text/x-python",
   "name": "python",
   "nbconvert_exporter": "python",
   "pygments_lexer": "ipython3",
   "version": "3.10.9"
  }
 },
 "nbformat": 4,
 "nbformat_minor": 5
}
